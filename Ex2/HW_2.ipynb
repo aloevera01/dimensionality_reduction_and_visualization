{
 "cells": [
  {
   "cell_type": "markdown",
   "id": "ea4ad7b4",
   "metadata": {},
   "source": [
    "# Exercise set 2\n",
    "## by Vira Shulha"
   ]
  },
  {
   "cell_type": "markdown",
   "id": "0dc48353",
   "metadata": {},
   "source": [
    "Importing libraries: numpy for calculating mean, sum, diistance (norm), loading data, copy for deepcopying list, matplotlib for plots."
   ]
  },
  {
   "cell_type": "code",
   "execution_count": 16,
   "id": "domestic-relief",
   "metadata": {},
   "outputs": [],
   "source": [
    "import numpy as np\n",
    "from copy import deepcopy\n",
    "import matplotlib.pyplot as plt"
   ]
  },
  {
   "cell_type": "markdown",
   "id": "50366f7b",
   "metadata": {},
   "source": [
    "Loading data from txt file"
   ]
  },
  {
   "cell_type": "code",
   "execution_count": 2,
   "id": "north-tulsa",
   "metadata": {},
   "outputs": [],
   "source": [
    "data = np.loadtxt('C:/disk_D/2_tampere_uni/dimensionality reduction/ex/ex2/week02/noisy_sculpt_faces.txt')"
   ]
  },
  {
   "cell_type": "markdown",
   "id": "8e245efe",
   "metadata": {},
   "source": [
    "Dividing data into X (pixels) and Y (3 angles)"
   ]
  },
  {
   "cell_type": "code",
   "execution_count": 3,
   "id": "historic-lightning",
   "metadata": {},
   "outputs": [],
   "source": [
    "X = data[:, :256]\n",
    "Y = data[:, 256:]"
   ]
  },
  {
   "cell_type": "markdown",
   "id": "04166163",
   "metadata": {},
   "source": [
    "## A1"
   ]
  },
  {
   "cell_type": "markdown",
   "id": "22e35682",
   "metadata": {},
   "source": [
    "### a)"
   ]
  },
  {
   "cell_type": "code",
   "execution_count": 4,
   "id": "copyrighted-budget",
   "metadata": {},
   "outputs": [],
   "source": [
    "def find_k_closest(x, points, k=5):\n",
    "    dists = []\n",
    "\n",
    "    for point in points:\n",
    "        dist = np.linalg.norm(x-point)\n",
    "        dists.append(dist)\n",
    "    \n",
    "    dists_args = np.argsort(dists)\n",
    "    return dists_args[:k]"
   ]
  },
  {
   "cell_type": "markdown",
   "id": "d77188e7",
   "metadata": {},
   "source": [
    "Calculating leave-one-out error with nearest neighbour predictor: iterate through whole data set -> selecting one observation as test -> finding nearest neighbour for one test using remaining data as train -> calculating MSE between predicted and true value as average for 3 angles -> when iterating is ended, calculating final MSE as an average of all"
   ]
  },
  {
   "cell_type": "code",
   "execution_count": 11,
   "id": "emotional-pledge",
   "metadata": {},
   "outputs": [
    {
     "name": "stdout",
     "output_type": "stream",
     "text": [
      "MSE =  1848.7184545111731\n"
     ]
    }
   ],
   "source": [
    "error_scores = []\n",
    "\n",
    "for i, el in enumerate(X):\n",
    "    x = [el for j, el in enumerate(X) if j != i]\n",
    "    y_predicted = Y[(find_k_closest(el, x, k=1) + 1),:]\n",
    "    y_true = Y[i,:]\n",
    "    error = np.sum((y_predicted - y_true) ** 2) / 3\n",
    "    error_scores.append(error)\n",
    "    \n",
    "MSE = np.mean(error_scores)\n",
    "print('MSE = ', MSE)"
   ]
  },
  {
   "cell_type": "markdown",
   "id": "f18229e8",
   "metadata": {},
   "source": [
    "So we got MSE = 1848.72"
   ]
  },
  {
   "cell_type": "markdown",
   "id": "4f3763f8",
   "metadata": {},
   "source": [
    "### b)"
   ]
  },
  {
   "cell_type": "code",
   "execution_count": 12,
   "id": "sunrise-trout",
   "metadata": {},
   "outputs": [],
   "source": [
    "min_score = np.inf\n",
    "min_prev_score = 0\n",
    "feature_ids = []\n",
    "\n",
    "while min_prev_score != min_score: #  check if we have improved in previos iteration\n",
    "    min_prev_score = min_score #  saving previos best score\n",
    "    \n",
    "    for i in range(X.shape[1]): #  iterate through all features\n",
    "        if i in feature_ids: #  skip if feature is already selected\n",
    "            continue\n",
    "        temp_feature_ids = deepcopy(feature_ids) #  temporary feature list\n",
    "        temp_feature_ids.append(i)\n",
    "        new_X = X[:, temp_feature_ids] #  data for calculating leave-one-out error\n",
    "        \n",
    "        error_scores = [] #  calculating leave-one-out error as in a)\n",
    "\n",
    "        for j, el in enumerate(new_X):\n",
    "            x = [el for k, el in enumerate(new_X) if k != j]\n",
    "            y_predicted = Y[(find_k_closest(el, x, k=1) + 1),:]\n",
    "            y_true = Y[j,:]\n",
    "            error = np.sum((y_predicted - y_true) ** 2) / 3\n",
    "            error_scores.append(error)\n",
    "\n",
    "        MSE = np.mean(error_scores)\n",
    "        \n",
    "        if MSE < min_score: # adding id if error is lower then before\n",
    "            feature_ids.append(i)\n",
    "            min_score = MSE"
   ]
  },
  {
   "cell_type": "code",
   "execution_count": 14,
   "id": "laden-software",
   "metadata": {},
   "outputs": [
    {
     "name": "stdout",
     "output_type": "stream",
     "text": [
      "MSE =  1152.4272382224065\n",
      "Selected features:  [0, 12, 18, 24, 31, 32, 98, 135, 206, 207, 219, 39, 53, 87, 101, 107, 125, 8, 9]\n",
      "Total number of selected features:  19\n"
     ]
    }
   ],
   "source": [
    "print('MSE = ', min_score)\n",
    "print('Selected features: ', feature_ids)\n",
    "print('Total number of selected features: ', len(feature_ids))"
   ]
  },
  {
   "cell_type": "markdown",
   "id": "412b21fb",
   "metadata": {},
   "source": [
    "We reached leave-one-out validation error = 1152.43. It's better then with all features: 1152.43 (now) < 1848.72 (before). 19 features were needed."
   ]
  },
  {
   "cell_type": "markdown",
   "id": "8d562375",
   "metadata": {},
   "source": [
    "### c)"
   ]
  },
  {
   "cell_type": "code",
   "execution_count": 26,
   "id": "polish-dollar",
   "metadata": {
    "scrolled": true
   },
   "outputs": [
    {
     "name": "stdout",
     "output_type": "stream",
     "text": [
      "1 features are ordered already\n",
      "2 features are ordered already\n",
      "3 features are ordered already\n",
      "4 features are ordered already\n",
      "5 features are ordered already\n",
      "6 features are ordered already\n",
      "7 features are ordered already\n",
      "8 features are ordered already\n",
      "9 features are ordered already\n",
      "10 features are ordered already\n",
      "11 features are ordered already\n",
      "12 features are ordered already\n",
      "13 features are ordered already\n",
      "14 features are ordered already\n",
      "15 features are ordered already\n",
      "16 features are ordered already\n",
      "17 features are ordered already\n",
      "18 features are ordered already\n",
      "19 features are ordered already\n",
      "20 features are ordered already\n",
      "21 features are ordered already\n",
      "22 features are ordered already\n",
      "23 features are ordered already\n",
      "24 features are ordered already\n",
      "25 features are ordered already\n",
      "26 features are ordered already\n",
      "27 features are ordered already\n",
      "28 features are ordered already\n",
      "29 features are ordered already\n",
      "30 features are ordered already\n",
      "31 features are ordered already\n",
      "32 features are ordered already\n",
      "33 features are ordered already\n",
      "34 features are ordered already\n",
      "35 features are ordered already\n",
      "36 features are ordered already\n",
      "37 features are ordered already\n",
      "38 features are ordered already\n",
      "39 features are ordered already\n",
      "40 features are ordered already\n",
      "41 features are ordered already\n",
      "42 features are ordered already\n",
      "43 features are ordered already\n",
      "44 features are ordered already\n",
      "45 features are ordered already\n",
      "46 features are ordered already\n",
      "47 features are ordered already\n",
      "48 features are ordered already\n",
      "49 features are ordered already\n",
      "50 features are ordered already\n",
      "51 features are ordered already\n",
      "52 features are ordered already\n",
      "53 features are ordered already\n",
      "54 features are ordered already\n",
      "55 features are ordered already\n",
      "56 features are ordered already\n",
      "57 features are ordered already\n",
      "58 features are ordered already\n",
      "59 features are ordered already\n",
      "60 features are ordered already\n",
      "61 features are ordered already\n",
      "62 features are ordered already\n",
      "63 features are ordered already\n",
      "64 features are ordered already\n",
      "65 features are ordered already\n",
      "66 features are ordered already\n",
      "67 features are ordered already\n",
      "68 features are ordered already\n",
      "69 features are ordered already\n",
      "70 features are ordered already\n",
      "71 features are ordered already\n",
      "72 features are ordered already\n",
      "73 features are ordered already\n",
      "74 features are ordered already\n",
      "75 features are ordered already\n",
      "76 features are ordered already\n",
      "77 features are ordered already\n",
      "78 features are ordered already\n",
      "79 features are ordered already\n",
      "80 features are ordered already\n",
      "81 features are ordered already\n",
      "82 features are ordered already\n",
      "83 features are ordered already\n",
      "84 features are ordered already\n",
      "85 features are ordered already\n",
      "86 features are ordered already\n",
      "87 features are ordered already\n",
      "88 features are ordered already\n",
      "89 features are ordered already\n",
      "90 features are ordered already\n",
      "91 features are ordered already\n",
      "92 features are ordered already\n",
      "93 features are ordered already\n",
      "94 features are ordered already\n",
      "95 features are ordered already\n",
      "96 features are ordered already\n",
      "97 features are ordered already\n",
      "98 features are ordered already\n",
      "99 features are ordered already\n",
      "100 features are ordered already\n",
      "101 features are ordered already\n",
      "102 features are ordered already\n",
      "103 features are ordered already\n",
      "104 features are ordered already\n",
      "105 features are ordered already\n",
      "106 features are ordered already\n",
      "107 features are ordered already\n",
      "108 features are ordered already\n",
      "109 features are ordered already\n",
      "110 features are ordered already\n",
      "111 features are ordered already\n",
      "112 features are ordered already\n",
      "113 features are ordered already\n",
      "114 features are ordered already\n",
      "115 features are ordered already\n",
      "116 features are ordered already\n",
      "117 features are ordered already\n",
      "118 features are ordered already\n",
      "119 features are ordered already\n",
      "120 features are ordered already\n",
      "121 features are ordered already\n",
      "122 features are ordered already\n",
      "123 features are ordered already\n",
      "124 features are ordered already\n",
      "125 features are ordered already\n",
      "126 features are ordered already\n",
      "127 features are ordered already\n",
      "128 features are ordered already\n",
      "129 features are ordered already\n",
      "130 features are ordered already\n",
      "131 features are ordered already\n",
      "132 features are ordered already\n",
      "133 features are ordered already\n",
      "134 features are ordered already\n",
      "135 features are ordered already\n",
      "136 features are ordered already\n",
      "137 features are ordered already\n",
      "138 features are ordered already\n",
      "139 features are ordered already\n",
      "140 features are ordered already\n",
      "141 features are ordered already\n",
      "142 features are ordered already\n",
      "143 features are ordered already\n",
      "144 features are ordered already\n",
      "145 features are ordered already\n",
      "146 features are ordered already\n",
      "147 features are ordered already\n",
      "148 features are ordered already\n",
      "149 features are ordered already\n",
      "150 features are ordered already\n",
      "151 features are ordered already\n",
      "152 features are ordered already\n",
      "153 features are ordered already\n",
      "154 features are ordered already\n",
      "155 features are ordered already\n",
      "156 features are ordered already\n",
      "157 features are ordered already\n",
      "158 features are ordered already\n",
      "159 features are ordered already\n",
      "160 features are ordered already\n",
      "161 features are ordered already\n",
      "162 features are ordered already\n",
      "163 features are ordered already\n",
      "164 features are ordered already\n",
      "165 features are ordered already\n",
      "166 features are ordered already\n",
      "167 features are ordered already\n",
      "168 features are ordered already\n",
      "169 features are ordered already\n",
      "170 features are ordered already\n",
      "171 features are ordered already\n",
      "172 features are ordered already\n",
      "173 features are ordered already\n",
      "174 features are ordered already\n",
      "175 features are ordered already\n",
      "176 features are ordered already\n",
      "177 features are ordered already\n",
      "178 features are ordered already\n",
      "179 features are ordered already\n",
      "180 features are ordered already\n",
      "181 features are ordered already\n",
      "182 features are ordered already\n",
      "183 features are ordered already\n",
      "184 features are ordered already\n",
      "185 features are ordered already\n",
      "186 features are ordered already\n",
      "187 features are ordered already\n",
      "188 features are ordered already\n",
      "189 features are ordered already\n",
      "190 features are ordered already\n",
      "191 features are ordered already\n",
      "192 features are ordered already\n",
      "193 features are ordered already\n",
      "194 features are ordered already\n",
      "195 features are ordered already\n",
      "196 features are ordered already\n",
      "197 features are ordered already\n",
      "198 features are ordered already\n",
      "199 features are ordered already\n",
      "200 features are ordered already\n",
      "201 features are ordered already\n",
      "202 features are ordered already\n",
      "203 features are ordered already\n",
      "204 features are ordered already\n",
      "205 features are ordered already\n",
      "206 features are ordered already\n",
      "207 features are ordered already\n",
      "208 features are ordered already\n",
      "209 features are ordered already\n",
      "210 features are ordered already\n",
      "211 features are ordered already\n",
      "212 features are ordered already\n",
      "213 features are ordered already\n",
      "214 features are ordered already\n",
      "215 features are ordered already\n",
      "216 features are ordered already\n",
      "217 features are ordered already\n",
      "218 features are ordered already\n",
      "219 features are ordered already\n",
      "220 features are ordered already\n",
      "221 features are ordered already\n",
      "222 features are ordered already\n",
      "223 features are ordered already\n",
      "224 features are ordered already\n",
      "225 features are ordered already\n",
      "226 features are ordered already\n",
      "227 features are ordered already\n",
      "228 features are ordered already\n",
      "229 features are ordered already\n",
      "230 features are ordered already\n",
      "231 features are ordered already\n",
      "232 features are ordered already\n",
      "233 features are ordered already\n",
      "234 features are ordered already\n",
      "235 features are ordered already\n",
      "236 features are ordered already\n",
      "237 features are ordered already\n",
      "238 features are ordered already\n",
      "239 features are ordered already\n",
      "240 features are ordered already\n",
      "241 features are ordered already\n",
      "242 features are ordered already\n",
      "243 features are ordered already\n",
      "244 features are ordered already\n",
      "245 features are ordered already\n",
      "246 features are ordered already\n",
      "247 features are ordered already\n",
      "248 features are ordered already\n",
      "249 features are ordered already\n",
      "250 features are ordered already\n",
      "251 features are ordered already\n",
      "252 features are ordered already\n"
     ]
    },
    {
     "name": "stdout",
     "output_type": "stream",
     "text": [
      "253 features are ordered already\n",
      "254 features are ordered already\n",
      "255 features are ordered already\n",
      "256 features are ordered already\n"
     ]
    }
   ],
   "source": [
    "scores = []\n",
    "feature_ids_total = []\n",
    "\n",
    "while len(feature_ids_total) < 256:  # checking if we have added all features already\n",
    "    temp_min_score = np.inf  # temp variable to select best for this iteration\n",
    "    temp_feature_id = None # temp variable with id of feature with best error result\n",
    "    \n",
    "    for i in range(X.shape[1]):\n",
    "        if i in feature_ids_total: # skip id if it is already selected\n",
    "            continue\n",
    "            \n",
    "        temp_feature_ids = deepcopy(feature_ids_total)\n",
    "        temp_feature_ids.append(i)\n",
    "        new_X = X[:, temp_feature_ids]\n",
    "        \n",
    "        error_scores = []\n",
    "\n",
    "        for j, el in enumerate(new_X):\n",
    "            x = [el for k, el in enumerate(new_X) if k != j]\n",
    "            y_predicted = Y[(find_k_closest(el, x, k=1) + 1),:]\n",
    "            y_true = Y[j,:]\n",
    "            error = np.sum((y_predicted - y_true) ** 2) / 3\n",
    "            error_scores.append(error)\n",
    "\n",
    "        MSE = np.mean(error_scores)\n",
    "        \n",
    "        if MSE < temp_min_score:\n",
    "            temp_feature_id = i\n",
    "            temp_min_score = MSE\n",
    "            \n",
    "    feature_ids_total.append(temp_feature_id)\n",
    "    scores.append(temp_min_score)\n",
    "    print('{} features are ordered already'.format(len(feature_ids_total))) # controling the proccess"
   ]
  },
  {
   "cell_type": "markdown",
   "id": "369d65df",
   "metadata": {},
   "source": [
    "### d)"
   ]
  },
  {
   "cell_type": "code",
   "execution_count": 35,
   "id": "appreciated-canon",
   "metadata": {},
   "outputs": [
    {
     "data": {
      "image/png": "[encoded data removed]",
      "text/plain": [
       "<Figure size 864x576 with 1 Axes>"
      ]
     },
     "metadata": {
      "needs_background": "light"
     },
     "output_type": "display_data"
    }
   ],
   "source": [
    "plt.figure(figsize=(12,8))\n",
    "plt.xlabel('Number of features')\n",
    "plt.ylabel('Leave-one-out score')\n",
    "plt.plot(np.arange(1, 257), scores);"
   ]
  },
  {
   "cell_type": "code",
   "execution_count": 28,
   "id": "norman-modification",
   "metadata": {},
   "outputs": [
    {
     "name": "stdout",
     "output_type": "stream",
     "text": [
      "Number of ids with the lowest error rate:  147 ; Error rate:  639.3854579276544\n"
     ]
    }
   ],
   "source": [
    "scores = np.array(scores)\n",
    "print('Number of ids with the lowest error rate: ', np.argmin(scores) , '; Error rate: ', scores[np.argmin(scores)])"
   ]
  },
  {
   "cell_type": "markdown",
   "id": "b88479ad",
   "metadata": {},
   "source": [
    "We have reached a better solution than in b) at 147 features. We have got this result due to at every iteration we selected the best feature at this iteration and because there is no linear dependency between MSE and the number of features which are selected. In some senses, in b) we have found the 'local minimum' but in c) we are able to find the 'global minimum'."
   ]
  },
  {
   "cell_type": "markdown",
   "id": "688576f7",
   "metadata": {},
   "source": [
    "## A2"
   ]
  },
  {
   "cell_type": "markdown",
   "id": "277c7baa",
   "metadata": {},
   "source": [
    "### 1."
   ]
  },
  {
   "cell_type": "markdown",
   "id": "91249436",
   "metadata": {},
   "source": [
    "Discuss the use of simple variable ranking methods for the Sculpt Faces data set: could, for example, ranking by Pearson correlation be used, how?\n",
    "\n",
    "Answer: Yes, we could do it. For example, we can implement it by taking the average between 3 Pearson correlation values. These 3 values we got from calculating the correlation between X (pixels) and 3 angles. We should not just calculate a correlation between 4 variables (X and 3 angles) because we do not need to compare the correlation between angles. "
   ]
  },
  {
   "cell_type": "markdown",
   "id": "c44328e2",
   "metadata": {},
   "source": [
    "### 2."
   ]
  },
  {
   "cell_type": "code",
   "execution_count": 29,
   "id": "cd41b7b2",
   "metadata": {},
   "outputs": [],
   "source": [
    "scores_alone = []\n",
    "\n",
    "for i in range(X.shape[1]):\n",
    "    temp_scores = []\n",
    "    new_X = X[:, i]\n",
    "\n",
    "    for j, el in enumerate(new_X):\n",
    "        x = [el for k, el in enumerate(new_X) if k != j]\n",
    "        y_predicted = Y[(find_k_closest(el, x, k=1) + 1),:]\n",
    "        y_true = Y[j,:]\n",
    "        error = np.sum((y_predicted - y_true) ** 2) / 3\n",
    "        temp_scores.append(error)\n",
    "\n",
    "    MSE = np.mean(temp_scores)\n",
    "    scores_alone.append(MSE)"
   ]
  },
  {
   "cell_type": "code",
   "execution_count": 30,
   "id": "92d80863",
   "metadata": {},
   "outputs": [
    {
     "name": "stdout",
     "output_type": "stream",
     "text": [
      "[189  24  32 197 218 180 228 224  18  19 214  87 206 140  74 146  49  53\n",
      "  58 210 174  47 229 115  96  40 191  59 219   0 238  44 112 147 244 172\n",
      "  35 129  46 110 157 217  34  33 190 226  63  54  42 184  38  31  70 176\n",
      "  52  15 215 117 205 119 248  61 118 207 195 167 127  94  22 101  20 203\n",
      "  55 255 208  28  21 169 102   3  27 149 134  26 148 145  91 182  17 200\n",
      "  97 220 230   8  81 152 107  79  43  76 222 236   5 104  25  80 160  60\n",
      " 165  82 179 105 186 181  57   2 136  86 241  95 221 192 126 168 250  77\n",
      "  37 231  67 234  69 247  93 150 199  99  51   1 225  68 161 153  92 173\n",
      "  62  64 144 163  45 170 254 177 245 108 178  78  13  90  39   9 223  50\n",
      "  84 124  71  56 194 251   4  48 233 164 141 212 253  41 137 237 193 100\n",
      "  73  30 187 213 109 235 113 143 204 216 188 211 132  85 198 239 138 171\n",
      "  12 125  14 162 185 133 240  16  23  66 142 120 131 154 196 114  83 252\n",
      " 123 232   6 242 243 128 249 159  65 139   7  72 116 130  11  10 156 151\n",
      " 175  36  89 122  75 246 155  88 135 202 158  29  98 121 201 166 209 111\n",
      " 103 227 106 183]\n"
     ]
    }
   ],
   "source": [
    "scores_alone = np.array(scores_alone)\n",
    "print(np.argsort(scores_alone))"
   ]
  },
  {
   "cell_type": "code",
   "execution_count": 33,
   "id": "934da454",
   "metadata": {},
   "outputs": [
    {
     "name": "stdout",
     "output_type": "stream",
     "text": [
      "[189 120 116 207 197   9  26 224  32  59  18   8  13 229 222 102 228 245\n",
      " 142 180 206 250 226 205 188 125 133  97 165 128  98 215 107 147  24 113\n",
      "  49  87 124  54 138 218 182  17  62  12 179  81 105 137 115 253 114 112\n",
      " 163  56 200 146 219  89  99  96 184  53  80 153 132 246 135 194 167   3\n",
      "  37 192 241   0  46 210 140  57  84  71   2 162 240 101 166 199  39  58\n",
      " 201 174 122  15 214 244  79 252  64 254   6 198 104  70  52 187 190 169\n",
      " 176 233  38 171 170 238  41  40  73  68  35 195 220 251 126  29  67  27\n",
      " 145 208 186 106 172   1 148 231  51  76  31  63 136 131  93 191  44  28\n",
      " 212  78 155 100   5 213 185 111 255 158 154  33 248  94 227  45  20  85\n",
      " 230 202 181 141 177   7  82  60  86 143  48  65  36 134  77 129 121 204\n",
      " 183 159  83  72 103  74 216 242  75 217 211 243 117 175  43  50 157 247\n",
      " 139 249  22  92 203  14 232  42 234  23  11 236   4  16 193  47 150 151\n",
      " 123 118  91 110 173 149 156  55 152 164  66 119  69 144  90 127  30 168\n",
      "  21 209 108 237  19  61  95 178 161  25 239 196 223 130 235  88 221  34\n",
      " 225 109  10 160]\n"
     ]
    }
   ],
   "source": [
    "# previous result in c)\n",
    "\n",
    "print(np.array(feature_ids_total))"
   ]
  },
  {
   "cell_type": "markdown",
   "id": "926bb4d9",
   "metadata": {},
   "source": [
    "Most of the features in 1c) have a different order than in 2. Only the first feature is the same because we select first starting from an empty score in 1c)."
   ]
  }
 ],
 "metadata": {
  "kernelspec": {
   "display_name": "Python 3 (ipykernel)",
   "language": "python",
   "name": "python3"
  },
  "language_info": {
   "codemirror_mode": {
    "name": "ipython",
    "version": 3
   },
   "file_extension": ".py",
   "mimetype": "text/x-python",
   "name": "python",
   "nbconvert_exporter": "python",
   "pygments_lexer": "ipython3",
   "version": "3.9.12"
  }
 },
 "nbformat": 4,
 "nbformat_minor": 5
}
